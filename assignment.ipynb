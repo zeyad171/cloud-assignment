{
 "cells": [
  {
   "cell_type": "code",
   "execution_count": 1,
   "id": "3698a5d9-52f7-4dd6-b78d-0b3117e507ec",
   "metadata": {},
   "outputs": [],
   "source": [
    "import pandas as pd\n",
    "\n",
    "df = pd.read_csv('books.csv')"
   ]
  },
  {
   "cell_type": "code",
   "execution_count": 2,
   "id": "dd8824fe-13f9-49ae-b184-750a0000537e",
   "metadata": {},
   "outputs": [
    {
     "name": "stdout",
     "output_type": "stream",
     "text": [
      "book_id                        0\n",
      "goodreads_book_id              0\n",
      "best_book_id                   0\n",
      "work_id                        0\n",
      "books_count                    0\n",
      "isbn                          52\n",
      "isbn13                        44\n",
      "authors                        0\n",
      "original_publication_year      3\n",
      "original_title                52\n",
      "title                          0\n",
      "language_code                109\n",
      "average_rating                 0\n",
      "ratings_count                  0\n",
      "work_ratings_count             0\n",
      "work_text_reviews_count        0\n",
      "ratings_1                      0\n",
      "ratings_2                      0\n",
      "ratings_3                      0\n",
      "ratings_4                      0\n",
      "ratings_5                      0\n",
      "image_url                      0\n",
      "small_image_url                0\n",
      "dtype: int64\n"
     ]
    }
   ],
   "source": [
    "print(df.isnull().sum())\n",
    "df.dropna(inplace=True)\n"
   ]
  },
  {
   "cell_type": "code",
   "execution_count": 3,
   "id": "0c2e6aee-8b93-4faf-a549-590d4e4c1591",
   "metadata": {},
   "outputs": [
    {
     "name": "stdout",
     "output_type": "stream",
     "text": [
      "                              original_title  books_count\n",
      "7   Harry Potter and the Philosopher's Stone          491\n",
      "2    Harry Potter and the Chamber of Secrets          398\n",
      "8   Harry Potter and the Prisoner of Azkaban          376\n",
      "4        Harry Potter and the Goblet of Fire          332\n",
      "6  Harry Potter and the Order of the Phoenix          307\n"
     ]
    }
   ],
   "source": [
    "harry_potter_df = df[df['original_title'].str.contains('Harry Potter', case=False)]\n",
    "\n",
    "harry_potter_sales = harry_potter_df.groupby('original_title')['books_count'].sum().reset_index()\n",
    "\n",
    "most_selling_books = harry_potter_sales.sort_values(by='books_count', ascending=False).head(5)\n",
    "\n",
    "print(most_selling_books)"
   ]
  },
  {
   "cell_type": "code",
   "execution_count": 4,
   "id": "d41d3a3e-31da-4eba-9872-56914317ec91",
   "metadata": {},
   "outputs": [
    {
     "name": "stdout",
     "output_type": "stream",
     "text": [
      "Average rating of Harry Potter books: 4.4910000000000005\n"
     ]
    }
   ],
   "source": [
    "average_rating = harry_potter_df['average_rating'].mean()\n",
    "\n",
    "print(\"Average rating of Harry Potter books:\", average_rating)"
   ]
  },
  {
   "cell_type": "code",
   "execution_count": null,
   "id": "0251c98d-325a-498e-8d35-39f8200b3b33",
   "metadata": {},
   "outputs": [],
   "source": []
  }
 ],
 "metadata": {
  "kernelspec": {
   "display_name": "Python 3 (ipykernel)",
   "language": "python",
   "name": "python3"
  },
  "language_info": {
   "codemirror_mode": {
    "name": "ipython",
    "version": 3
   },
   "file_extension": ".py",
   "mimetype": "text/x-python",
   "name": "python",
   "nbconvert_exporter": "python",
   "pygments_lexer": "ipython3",
   "version": "3.11.6"
  }
 },
 "nbformat": 4,
 "nbformat_minor": 5
}
